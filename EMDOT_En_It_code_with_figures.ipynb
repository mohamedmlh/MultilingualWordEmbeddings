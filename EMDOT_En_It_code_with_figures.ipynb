{
 "cells": [
  {
   "cell_type": "code",
   "execution_count": null,
   "metadata": {
    "colab": {
     "base_uri": "https://localhost:8080/"
    },
    "id": "V6cE3D-1-6XK",
    "outputId": "49e6c514-06fd-4fe8-cff7-e52c4a150fd8"
   },
   "outputs": [
    {
     "name": "stdout",
     "output_type": "stream",
     "text": [
      "Mounted at /content/drive\n"
     ]
    }
   ],
   "source": [
    "from google.colab import drive\n",
    "drive.mount('/content/drive')"
   ]
  },
  {
   "cell_type": "code",
   "execution_count": null,
   "metadata": {
    "id": "z_2XeM5V_RCn"
   },
   "outputs": [],
   "source": [
    "import cupy\n",
    "def get_cupy():\n",
    "    return cupy"
   ]
  },
  {
   "cell_type": "code",
   "execution_count": null,
   "metadata": {
    "colab": {
     "base_uri": "https://localhost:8080/"
    },
    "id": "bq3sdg_c_c0v",
    "outputId": "b0db88c5-cc12-42d1-9b66-450574d30a85"
   },
   "outputs": [],
   "source": [
    "!pip install POT\n",
    "import ot\n",
    "import numpy as np\n",
    "import pandas as pd\n",
    "import scipy.sparse as sparse\n",
    "import time\n",
    "from scipy.stats import ortho_group \n",
    "import collections\n",
    "import matplotlib.pyplot as plt"
   ]
  },
  {
   "cell_type": "code",
   "execution_count": null,
   "metadata": {
    "id": "ZAowSccq_tQR"
   },
   "outputs": [],
   "source": [
    "srcfile = open('/content/drive/My Drive/MAP512WordEmbedding/en.emb.txt', encoding='utf-8', errors='surrogateescape')\n",
    "trgfile = open('/content/drive/My Drive/MAP512WordEmbedding/it.emb.txt', encoding='utf-8', errors='surrogateescape')\n",
    "def read(file, dtype='float'):\n",
    "    header = file.readline().split(' ')\n",
    "    count = int(header[0]) \n",
    "    dim = int(header[1])\n",
    "    words = []\n",
    "    matrix = np.empty((count, dim), dtype=dtype) \n",
    "    for i in range(count):\n",
    "        word, vec = file.readline().split(' ', 1)\n",
    "        words.append(word)\n",
    "        matrix[i] = np.fromstring(vec, sep=' ', dtype=dtype)\n",
    "    return (words,matrix)\n",
    "src_words, x = read(srcfile)\n",
    "trg_words, z = read(trgfile)"
   ]
  },
  {
   "cell_type": "code",
   "execution_count": null,
   "metadata": {
    "id": "2oZ70RFFAWZ1"
   },
   "outputs": [],
   "source": [
    "src_word2ind = {word: i for i, word in enumerate(src_words)}\n",
    "trg_word2ind = {word: i for i, word in enumerate(trg_words)}"
   ]
  },
  {
   "cell_type": "code",
   "execution_count": null,
   "metadata": {
    "id": "K18F1hQH_muM"
   },
   "outputs": [],
   "source": [
    "src_indices = []\n",
    "trg_indices = []\n",
    "src2trg = collections.defaultdict(set)\n",
    "oov = set()\n",
    "vocab = set()\n",
    "f = open('/content/drive/My Drive/MAP512WordEmbedding/en-it.train.txt', encoding='utf-8', errors='surrogateescape')\n",
    "for line in f:\n",
    "    src, trg = line.split()\n",
    "    try:\n",
    "        src_ind = src_word2ind[src]\n",
    "        trg_ind = trg_word2ind[trg]\n",
    "        src_indices.append(src_ind)\n",
    "        trg_indices.append(trg_ind)\n",
    "        src2trg[src_ind].add(trg_ind)\n",
    "        vocab.add(src)\n",
    "    except KeyError:\n",
    "        print('WARNING: OOV dictionary entry ({0} - {1})'.format(src, trg), file=sys.stderr)\n",
    "        oov.add(src)\n",
    "src = list(src2trg.keys())\n",
    "oov -= vocab"
   ]
  },
  {
   "cell_type": "code",
   "execution_count": null,
   "metadata": {
    "id": "Oagz7V5fAYnO"
   },
   "outputs": [],
   "source": [
    "S = x[src_indices]\n",
    "T = z[trg_indices]"
   ]
  },
  {
   "cell_type": "code",
   "execution_count": null,
   "metadata": {
    "id": "kwf_4FbDAvhM"
   },
   "outputs": [],
   "source": [
    "xp = get_cupy()\n",
    "S = xp.asarray(S)\n",
    "T = xp.asarray(T)"
   ]
  },
  {
   "cell_type": "code",
   "execution_count": null,
   "metadata": {
    "id": "GLNuhQLCAztJ"
   },
   "outputs": [],
   "source": [
    "\n",
    "eps = 1e-8\n",
    "S = S/(xp.linalg.norm(S,axis=1)[:, np.newaxis] + eps)\n",
    "T = T/(xp.linalg.norm(T,axis=1)[:, np.newaxis] + eps)"
   ]
  },
  {
   "cell_type": "code",
   "execution_count": null,
   "metadata": {
    "colab": {
     "base_uri": "https://localhost:8080/"
    },
    "id": "mE2XSEdQBQRE",
    "outputId": "b9c4da18-5151-4189-c417-f0b4421844cb"
   },
   "outputs": [
    {
     "data": {
      "text/plain": [
       "(5000, 300)"
      ]
     },
     "execution_count": 11,
     "metadata": {
      "tags": []
     },
     "output_type": "execute_result"
    }
   ],
   "source": [
    "S.shape"
   ]
  },
  {
   "cell_type": "code",
   "execution_count": null,
   "metadata": {
    "id": "p5pLDip4BJSr"
   },
   "outputs": [],
   "source": [
    "def cost(s,t):\n",
    "    C = xp.zeros((5000,5000))\n",
    "    for i in range(5000):\n",
    "        C[i] = xp.linalg.norm(t[i] - s,axis=1)**2\n",
    "    return C"
   ]
  },
  {
   "cell_type": "code",
   "execution_count": null,
   "metadata": {
    "id": "15fGiMm3B6vv"
   },
   "outputs": [],
   "source": [
    "\n"
   ]
  },
  {
   "cell_type": "code",
   "execution_count": null,
   "metadata": {
    "id": "xIs-ciSSnXOU"
   },
   "outputs": [],
   "source": []
  },
  {
   "cell_type": "code",
   "execution_count": null,
   "metadata": {
    "id": "n0q40UHPpxrU"
   },
   "outputs": [],
   "source": [
    "def get_accuracy(G0):\n",
    "  xw = xp.asarray(x)@G0\n",
    "  BATCH_SIZE = 500\n",
    "  translation = collections.defaultdict(int)\n",
    "    # Standard nearest neighbor\n",
    "  for i in range(0, len(src), BATCH_SIZE):\n",
    "      j = min(i + BATCH_SIZE, len(src))\n",
    "      similarities = xw[src[i:j]].dot(T.T)\n",
    "      nn = similarities.argmax(axis=1).tolist()\n",
    "      for k in range(j-i):\n",
    "          translation[src[i+k]] = trg_indices[nn[k]]\n",
    "  accuracy = np.mean([1 if translation[i] in src2trg[i] else 0 for i in src])\n",
    "  print(' Accuracy:{1:7.2%}'.format(1, accuracy))\n"
   ]
  },
  {
   "cell_type": "code",
   "execution_count": null,
   "metadata": {
    "id": "AxJ58TW83VSL"
   },
   "outputs": [],
   "source": [
    "f = np.ones(5000)/5000\n",
    "def train(r = 1000,lambd = 2e-2):\n",
    "    G0 = xp.identity(300)#xp.asarray(ortho_group.rvs(dim=300))\n",
    "    W0 = xp.zeros((5000,5000))\n",
    "    W0[:r,:r] = xp.identity(r)\n",
    "    #W0[r:,r:] = xp.asarray(np.random.random(size=(5000-r,5000-r))/10)#xp.asarray(ortho_group.rvs(dim=5000 - r))\n",
    "    dlta = 1\n",
    "    was_dist = 2\n",
    "    wass_d_i = []\n",
    "    dif_i = []\n",
    "    \n",
    "    fig, axs = plt.subplots(6, 2,figsize=(10,35))\n",
    "    for k in range(10):\n",
    "        usv = S.T @ W0 @ T\n",
    "\n",
    "        u,s,vh = xp.linalg.svd(usv)\n",
    "      \n",
    "        nG = u @ vh\n",
    "        step = xp.linalg.norm(nG - G0)\n",
    "        dif_i.append(step)\n",
    "        G0 = nG\n",
    "        C = cost(S@G0,T) \n",
    "        \n",
    "        n_was = xp.multiply(W0,C).sum()\n",
    "        dlta = abs(was_dist - n_was)\n",
    "        was_dist = n_was\n",
    "\n",
    "        wass_d_i.append(was_dist)\n",
    "\n",
    "        \n",
    "        \n",
    "       \n",
    "        axs[k//2,k - 2*(k//2)].imshow(xp.asnumpy(W0)**.02,aspect='auto',cmap='Greys')\n",
    "        print('delta wass dist = ', dlta,'  |Gn+1 - Gn| = ',step,'  was_dist = ',was_dist)\n",
    "        \n",
    "        W0 = xp.asarray(ot.sinkhorn(f,f,xp.asnumpy(C),lambd))\n",
    "\n",
    "    axs[5,0].imshow(xp.asnumpy(W0)**.02,aspect='auto',cmap='Greys')\n",
    "    axs[5,1].plot(range(len(wass_d_i)),wass_d_i)\n",
    "    plt.show()\n",
    "    return G0,wass_d_i,W0"
   ]
  },
  {
   "cell_type": "code",
   "execution_count": null,
   "metadata": {
    "colab": {
     "base_uri": "https://localhost:8080/",
     "height": 275
    },
    "id": "Enxr1FZJCYdc",
    "outputId": "26846491-3e28-4d42-8394-e114e2c2d63c"
   },
   "outputs": [],
   "source": [
    "start_time = time.time()\n",
    "G0,wass_01,W0 = train(50,0.1)\n",
    "print(\"--- %s seconds ---\" % (time.time() - start_time))\n",
    "plt.plot(range(len(wass_01)-1),wass_01[1:])\n",
    "plt.show()\n",
    "get_accuracy(G0)"
   ]
  },
  {
   "cell_type": "code",
   "execution_count": null,
   "metadata": {
    "colab": {
     "base_uri": "https://localhost:8080/",
     "height": 1000
    },
    "id": "slQMfpVg3LLM",
    "outputId": "e28f37fa-fed7-4979-de86-48da34833665"
   },
   "outputs": [],
   "source": [
    "start_time = time.time()\n",
    "G0,wass_50,W0 = train(50,0.05)\n",
    "print(\"--- %s seconds ---\" % (time.time() - start_time))\n",
    "plt.plot(range(len(wass_50)-1),wass_50[1:])\n",
    "plt.show()\n",
    "get_accuracy(G0)"
   ]
  },
  {
   "cell_type": "code",
   "execution_count": null,
   "metadata": {
    "colab": {
     "base_uri": "https://localhost:8080/",
     "height": 1000
    },
    "id": "EWP-tGSBC9y3",
    "outputId": "7d20f21a-c1ec-4720-e351-ad0d551dd5b0"
   },
   "outputs": [],
   "source": [
    "start_time = time.time()\n",
    "G0,wass_03,W0_03 = train(50,0.03)\n",
    "print(\"--- %s seconds ---\" % (time.time() - start_time))\n",
    "\n",
    "plt.plot(range(len(wass_03)-1),wass_03[1:])\n",
    "plt.show()\n",
    "get_accuracy(G0)"
   ]
  },
  {
   "cell_type": "code",
   "execution_count": null,
   "metadata": {
    "colab": {
     "base_uri": "https://localhost:8080/",
     "height": 1000
    },
    "id": "3p690C0t3buK",
    "outputId": "8a861fdf-2152-43b6-e396-e4f7229ff30a"
   },
   "outputs": [],
   "source": [
    "start_time = time.time()\n",
    "G0,wass_02,W0_2 = train(50,0.2)\n",
    "print(\"--- %s seconds ---\" % (time.time() - start_time))\n",
    "\n",
    "plt.plot(range(len(wass_02)-1),wass_02[1:])\n",
    "plt.show()\n",
    "get_accuracy(G0)"
   ]
  },
  {
   "cell_type": "code",
   "execution_count": null,
   "metadata": {
    "colab": {
     "base_uri": "https://localhost:8080/",
     "height": 1000
    },
    "id": "d9mNocl2_ZVK",
    "outputId": "944434b4-770e-4635-c00b-1a80d2f90750"
   },
   "outputs": [],
   "source": [
    "start_time = time.time()\n",
    "G0,wass_05,W0_5 = train(50,0.5)\n",
    "print(\"--- %s seconds ---\" % (time.time() - start_time))\n",
    "\n",
    "plt.plot(range(len(wass_05)-1),wass_05[1:])\n",
    "plt.show()\n",
    "get_accuracy(G0)"
   ]
  },
  {
   "cell_type": "code",
   "execution_count": null,
   "metadata": {
    "colab": {
     "base_uri": "https://localhost:8080/",
     "height": 282
    },
    "id": "V3cfQXLwCTyv",
    "outputId": "2dd34901-ebd3-49cf-c80d-5c400fe9780f"
   },
   "outputs": [
    {
     "data": {
      "text/plain": [
       "<matplotlib.legend.Legend at 0x7f86f3186f50>"
      ]
     },
     "execution_count": 28,
     "metadata": {
      "tags": []
     },
     "output_type": "execute_result"
    },
    {
     "data": {
      "image/png": "[encoded data removed]",
      "text/plain": [
       "<Figure size 432x288 with 1 Axes>"
      ]
     },
     "metadata": {
      "needs_background": "light",
      "tags": []
     },
     "output_type": "display_data"
    }
   ],
   "source": [
    "n=len(wass_50)-1\n",
    "w_05, = plt.plot(range(n),wass_50[1:],color=\"r\")\n",
    "w_5, = plt.plot(range(n),wass_05[1:],color=\"b\")\n",
    "w_02, = plt.plot(range(n),wass_02[1:],color=\"g\")\n",
    "w_03, = plt.plot(range(n),wass_03[1:],color=\"y\")\n",
    "#w_30, = plt.plot(range(n),wass_30[1:],color=\"k\")\n",
    "#w_20, = plt.plot(range(n),wass_20[1:],color=\"m\")\n",
    "#w_10, = plt.plot(range(n),wass_10[1:],color=\"c\")\n",
    "\n",
    "plt.legend([w_05,w_5,w_02,w_03],['lmbda = 0.05','lmbda = 0.5','lmbda = 0.2','lmbda = 0.03'],loc='lower right')"
   ]
  },
  {
   "cell_type": "markdown",
   "metadata": {
    "id": "P08LQ-evtvHo"
   },
   "source": [
    "Accuracy: 86.20% for W = Id\n",
    "\n",
    "Accuracy: 86.17% 3000\n",
    "\n",
    "Accuracy:  0.06% no info\n",
    "\n",
    "Accuracy: 85.74% 1000\n",
    "\n",
    "Accuracy: 85.74% 600\n",
    "\n",
    "Accuracy: 85.85%  300\n",
    "\n",
    "Accuracy: 85.85% 100\n",
    "\n"
   ]
  },
  {
   "cell_type": "code",
   "execution_count": null,
   "metadata": {
    "colab": {
     "base_uri": "https://localhost:8080/",
     "height": 1000
    },
    "id": "HdDO8pte3s8V",
    "outputId": "14a3df2b-476c-4fc5-b1bc-e7064d2686a2"
   },
   "outputs": [],
   "source": [
    "G0,wass_600,W0 = train(600)\n",
    "plt.plot(range(len(wass_600)-1),wass_600[1:])\n",
    "plt.show()\n",
    "get_accuracy(G0)"
   ]
  },
  {
   "cell_type": "code",
   "execution_count": null,
   "metadata": {
    "colab": {
     "base_uri": "https://localhost:8080/",
     "height": 286
    },
    "id": "jo2J-F6y2DMy",
    "outputId": "9412c396-cc00-4f7c-e7d5-daca69647bb7"
   },
   "outputs": [
    {
     "data": {
      "text/plain": [
       "<matplotlib.image.AxesImage at 0x7faef0fc0990>"
      ]
     },
     "execution_count": 32,
     "metadata": {
      "tags": []
     },
     "output_type": "execute_result"
    },
    {
     "data": {
      "image/png": "[encoded data removed]",
      "text/plain": [
       "<Figure size 432x288 with 1 Axes>"
      ]
     },
     "metadata": {
      "needs_background": "light",
      "tags": []
     },
     "output_type": "display_data"
    }
   ],
   "source": [
    "W0 = xp.asnumpy(W0)\n",
    "plt.imshow(W0**.02,cmap=\"Greys\")"
   ]
  },
  {
   "cell_type": "code",
   "execution_count": null,
   "metadata": {
    "colab": {
     "base_uri": "https://localhost:8080/",
     "height": 704
    },
    "id": "aTEH9tZT39q9",
    "outputId": "7576adae-556f-4157-ebcc-90b8dd33ce64"
   },
   "outputs": [],
   "source": [
    "G0,wass_300 = train(300)\n",
    "#plt.plot(range(len(wass_300)-1),wass_300[1:])\n",
    "#plt.show()\n",
    "get_accuracy(G0)"
   ]
  },
  {
   "cell_type": "code",
   "execution_count": null,
   "metadata": {
    "colab": {
     "base_uri": "https://localhost:8080/",
     "height": 704
    },
    "id": "rPfkE9Pk4ANE",
    "outputId": "10290fc1-e055-4748-cf09-e8cb24429f0e"
   },
   "outputs": [],
   "source": [
    "G0,wass_100 = train(100)\n",
    "plt.plot(range(len(wass_100)-1),wass_100[1:])\n",
    "plt.show()\n",
    "get_accuracy(G0)"
   ]
  },
  {
   "cell_type": "code",
   "execution_count": null,
   "metadata": {
    "colab": {
     "base_uri": "https://localhost:8080/",
     "height": 704
    },
    "id": "MOQZrS4z4DOz",
    "outputId": "446301d4-9c34-4a89-f663-295b8a289ff2"
   },
   "outputs": [
    {
     "name": "stdout",
     "output_type": "stream",
     "text": [
      "delta wass dist =  17.700415064652113   |Gn+1 - Gn| =  24.494792735778738   was_dist =  19.700415064652113\n",
      "delta wass dist =  17.894515611022626   |Gn+1 - Gn| =  23.91488753127418   was_dist =  1.805899453629486\n",
      "delta wass dist =  0.05450305952021495   |Gn+1 - Gn| =  23.58803464389056   was_dist =  1.751396394109271\n",
      "delta wass dist =  0.05869600720492252   |Gn+1 - Gn| =  22.944386282050097   was_dist =  1.6927003869043484\n",
      "delta wass dist =  0.08126115191468775   |Gn+1 - Gn| =  22.198640247216062   was_dist =  1.6114392349896607\n",
      "delta wass dist =  0.13847347987433523   |Gn+1 - Gn| =  20.86215517425964   was_dist =  1.4729657551153255\n",
      "delta wass dist =  0.2315011597042771   |Gn+1 - Gn| =  18.35058226965705   was_dist =  1.2414645954110484\n",
      "delta wass dist =  0.254631110155899   |Gn+1 - Gn| =  13.775664747109671   was_dist =  0.9868334852551494\n",
      "delta wass dist =  0.07873316541978626   |Gn+1 - Gn| =  8.34729873344358   was_dist =  0.9081003198353631\n",
      "delta wass dist =  0.03203105103908288   |Gn+1 - Gn| =  5.2980417066495225   was_dist =  0.8760692687962802\n"
     ]
    },
    {
     "data": {
      "image/png": "[encoded data removed]",
      "text/plain": [
       "<Figure size 432x288 with 1 Axes>"
      ]
     },
     "metadata": {
      "needs_background": "light",
      "tags": []
     },
     "output_type": "display_data"
    },
    {
     "data": {
      "image/png": "[encoded data removed]",
      "text/plain": [
       "<Figure size 432x288 with 1 Axes>"
      ]
     },
     "metadata": {
      "needs_background": "light",
      "tags": []
     },
     "output_type": "display_data"
    },
    {
     "name": "stdout",
     "output_type": "stream",
     "text": [
      " Accuracy: 85.01%\n"
     ]
    }
   ],
   "source": [
    "G0,wass_50 = train(50)\n",
    "plt.plot(range(len(wass_50)-1),wass_50[1:])\n",
    "plt.show()\n",
    "get_accuracy(G0)"
   ]
  },
  {
   "cell_type": "code",
   "execution_count": null,
   "metadata": {
    "colab": {
     "base_uri": "https://localhost:8080/",
     "height": 704
    },
    "id": "v7PeDj2_4E-I",
    "outputId": "36aafabd-c5cf-4721-e9e8-5dc0cdc99b1e"
   },
   "outputs": [],
   "source": [
    "G0,wass_10 = train(10)\n",
    "plt.plot(range(len(wass_10)-1),wass_10[1:])\n",
    "plt.show()\n",
    "get_accuracy(G0)"
   ]
  },
  {
   "cell_type": "code",
   "execution_count": null,
   "metadata": {
    "colab": {
     "base_uri": "https://localhost:8080/",
     "height": 704
    },
    "id": "kBodfSztsW5X",
    "outputId": "9cef870e-17c4-4ed5-d906-77dbf28cddd2"
   },
   "outputs": [],
   "source": [
    "G0,wass_20 = train(20)\n",
    "plt.plot(range(len(wass_20)-1),wass_20[1:])\n",
    "plt.show()\n",
    "get_accuracy(G0)"
   ]
  },
  {
   "cell_type": "code",
   "execution_count": null,
   "metadata": {
    "colab": {
     "base_uri": "https://localhost:8080/",
     "height": 711
    },
    "id": "eCBnEP4kxv0a",
    "outputId": "2907dd98-6566-46d5-d6cf-4a3aebf49e65"
   },
   "outputs": [],
   "source": [
    "G0,wass_30 = train(30)\n",
    "plt.plot(range(len(wass_30)-1),wass_30[1:])\n",
    "plt.show()\n",
    "get_accuracy(G0)"
   ]
  },
  {
   "cell_type": "code",
   "execution_count": null,
   "metadata": {
    "colab": {
     "base_uri": "https://localhost:8080/",
     "height": 283
    },
    "id": "257XBYtN6mOe",
    "outputId": "3636e113-8ccd-4486-c6c5-1f79b0ae5b17"
   },
   "outputs": [
    {
     "data": {
      "text/plain": [
       "<matplotlib.legend.Legend at 0x7f974fb9bd50>"
      ]
     },
     "execution_count": 32,
     "metadata": {
      "tags": []
     },
     "output_type": "execute_result"
    },
    {
     "data": {
      "image/png": "[encoded data removed]",
      "text/plain": [
       "<Figure size 432x288 with 1 Axes>"
      ]
     },
     "metadata": {
      "needs_background": "light",
      "tags": []
     },
     "output_type": "display_data"
    }
   ],
   "source": [
    "n=len(wass_600)-1\n",
    "w_600, = plt.plot(range(n),wass_600[1:],color=\"r\")\n",
    "w_300, = plt.plot(range(n),wass_300[1:],color=\"b\")\n",
    "w_100, = plt.plot(range(n),wass_100[1:],color=\"g\")\n",
    "w_50, = plt.plot(range(n),wass_50[1:],color=\"y\")\n",
    "w_30, = plt.plot(range(n),wass_30[1:],color=\"k\")\n",
    "w_20, = plt.plot(range(n),wass_20[1:],color=\"m\")\n",
    "w_10, = plt.plot(range(n),wass_10[1:],color=\"c\")\n",
    "\n",
    "plt.legend([w_600,w_300,w_100,w_50,w_30,w_20,w_10],['r = 600','r= 300','r = 100','r = 50','r = 30','r = 20','r = 10'],loc='lower right')"
   ]
  },
  {
   "cell_type": "code",
   "execution_count": null,
   "metadata": {
    "colab": {
     "base_uri": "https://localhost:8080/",
     "height": 283
    },
    "id": "cBcmgYMwqNKb",
    "outputId": "a1939af6-50a3-44b9-aca1-655a461f79c3"
   },
   "outputs": [
    {
     "data": {
      "text/plain": [
       "<matplotlib.legend.Legend at 0x7f974ff6de90>"
      ]
     },
     "execution_count": 26,
     "metadata": {
      "tags": []
     },
     "output_type": "execute_result"
    },
    {
     "data": {
      "image/png": "[encoded data removed]",
      "text/plain": [
       "<Figure size 432x288 with 1 Axes>"
      ]
     },
     "metadata": {
      "needs_background": "light",
      "tags": []
     },
     "output_type": "display_data"
    }
   ],
   "source": [
    "n=len(wass_600)\n",
    "plt.yscale('log')\n",
    "w_600, = plt.plot(range(n),wass_600,color=\"r\")\n",
    "w_300, = plt.plot(range(n),wass_300,color=\"b\")\n",
    "w_100, = plt.plot(range(n),wass_100,color=\"g\")\n",
    "w_50, = plt.plot(range(n),wass_50,color=\"y\")\n",
    "w_10, = plt.plot(range(n),wass_10,color=\"c\")\n",
    "plt.legend([w_600,w_300,w_100,w_50,w_10],['r = 600','r= 300','r = 100','r = 50','r = 10'])"
   ]
  }
 ],
 "metadata": {
  "accelerator": "GPU",
  "colab": {
   "collapsed_sections": [],
   "name": "Copie de EMDOT_4_3_21.ipynb",
   "provenance": []
  },
  "kernelspec": {
   "display_name": "Python 3 (ipykernel)",
   "language": "python",
   "name": "python3"
  },
  "language_info": {
   "codemirror_mode": {
    "name": "ipython",
    "version": 3
   },
   "file_extension": ".py",
   "mimetype": "text/x-python",
   "name": "python",
   "nbconvert_exporter": "python",
   "pygments_lexer": "ipython3",
   "version": "3.7.9"
  }
 },
 "nbformat": 4,
 "nbformat_minor": 1
}
